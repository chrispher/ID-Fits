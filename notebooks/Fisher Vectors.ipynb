{
 "metadata": {
  "name": "",
  "signature": "sha256:f2e045c70add05296918a80c70adee462bbb9e70f33cdcbf7f8d41b363ca6547"
 },
 "nbformat": 3,
 "nbformat_minor": 0,
 "worksheets": [
  {
   "cells": [
    {
     "cell_type": "code",
     "collapsed": false,
     "input": [
      "%pylab inline\n",
      "%load_ext ipycache\n",
      "import cv2, random\n",
      "from dataset import *\n",
      "from stats import *\n",
      "from utils.parallelize import parallelize\n",
      "from learning.gmm import GMM\n",
      "from fisher_vector import *\n",
      "from utils.file_manager import *\n",
      "from PythonWrapper.descriptors import *\n",
      "from sklearn.decomposition import PCA"
     ],
     "language": "python",
     "metadata": {},
     "outputs": [
      {
       "output_type": "stream",
       "stream": "stdout",
       "text": [
        "Populating the interactive namespace from numpy and matplotlib\n",
        "The ipycache extension is already loaded. To reload it, use:\n",
        "  %reload_ext ipycache\n"
       ]
      },
      {
       "output_type": "stream",
       "stream": "stderr",
       "text": [
        "WARNING: pylab import has clobbered these variables: ['pylab', 'random']\n",
        "`%matplotlib` prevents importing * from pylab and numpy\n"
       ]
      }
     ],
     "prompt_number": 5
    },
    {
     "cell_type": "code",
     "collapsed": false,
     "input": [
      "training_set, _ = loadDevData(\"train\")\n",
      "test_set, test_set_ground_truth = loadDevData(\"test\")\n",
      "\n",
      "data = np.load(\"../lfw/lfwa.npy\")\n",
      "training_data = data[training_set]\n",
      "test_data = data[test_set]\n",
      "print len(training_set), len(test_set)\n",
      "\n",
      "supervised_learning_indexes, y = loadTrainingDataLabels(training_set, min_nb_samples_per_class=20)\n",
      "print len(set(y)), len(supervised_learning_indexes)\n",
      "\n",
      "\n",
      "def reindex(indexes, ground_truth_mapping):\n",
      "    result_mapping = []\n",
      "    for mapping in ground_truth_mapping:\n",
      "        new_mapping = {}\n",
      "        for k in mapping.keys():\n",
      "            l = mapping[k]\n",
      "            new_mapping[indexes.index(k)] = []\n",
      "            for e in l:\n",
      "                new_mapping[indexes.index(k)].append(indexes.index(e))\n",
      "        result_mapping.append(new_mapping)\n",
      "    return tuple(result_mapping)\n",
      "\n",
      "test_set_ground_truth = reindex(test_set, test_set_ground_truth)"
     ],
     "language": "python",
     "metadata": {},
     "outputs": [
      {
       "output_type": "stream",
       "stream": "stdout",
       "text": [
        "9525 3708\n",
        "46"
       ]
      },
      {
       "output_type": "stream",
       "stream": "stdout",
       "text": [
        " 2370\n"
       ]
      }
     ],
     "prompt_number": 6
    },
    {
     "cell_type": "code",
     "collapsed": false,
     "input": [
      "%timeit computeDenseDescriptor(training_data[0])\n",
      "computeDenseDescriptor(training_data[0]).shape"
     ],
     "language": "python",
     "metadata": {},
     "outputs": [
      {
       "output_type": "stream",
       "stream": "stdout",
       "text": [
        "1 loops, best of 3: 11.3 ms per loop\n"
       ]
      },
      {
       "metadata": {},
       "output_type": "pyout",
       "prompt_number": 3,
       "text": [
        "(5712, 59)"
       ]
      }
     ],
     "prompt_number": 3
    },
    {
     "cell_type": "markdown",
     "metadata": {},
     "source": [
      "## Compute LBP-PCA\n",
      "\n",
      "Used to reduce dimension and to decorrelate variables before GMM estimation"
     ]
    },
    {
     "cell_type": "code",
     "collapsed": false,
     "input": [
      "%%cache -d cache/fisher_vectors pca.pkl pca\n",
      "var_cumsum = np.cumsum(pca.explained_variance_ratio_)\n",
      "plot(var_cumsum)\n",
      "xlim(xmax=59)\n",
      "ylim(ymax=1.0)\n",
      "\n",
      "print np.sum(var_cumsum < 0.95)\n",
      "print np.sum(var_cumsum < 0.98)\n",
      "print var_cumsum[20-1]"
     ],
     "language": "python",
     "metadata": {},
     "outputs": [
      {
       "output_type": "stream",
       "stream": "stdout",
       "text": [
        "[Skipped the cell's code and loaded variables pca from file '/home/tlorieul/Dev/Snoop/src/lib/Python/notebooks/cache/fisher_vectors/pca.pkl'.]\n",
        "15\n",
        "26\n",
        "0.968107253558\n"
       ]
      },
      {
       "metadata": {},
       "output_type": "display_data",
       "png": "[encoded data removed]",
       "text": [
        "<matplotlib.figure.Figure at 0x3ef8150>"
       ]
      }
     ],
     "prompt_number": 4
    },
    {
     "cell_type": "code",
     "collapsed": false,
     "input": [
      "pca.n_components_ = 20\n",
      "pca.components_ = pca.components_[:20]"
     ],
     "language": "python",
     "metadata": {},
     "outputs": [],
     "prompt_number": 5
    },
    {
     "cell_type": "code",
     "collapsed": false,
     "input": [
      "%timeit computeDenseDescriptor(training_data[0], pca=pca)\n",
      "computeDenseDescriptor(training_data[0], pca=pca).shape"
     ],
     "language": "python",
     "metadata": {},
     "outputs": [
      {
       "output_type": "stream",
       "stream": "stdout",
       "text": [
        "100 loops, best of 3: 8.35 ms per loop\n"
       ]
      },
      {
       "metadata": {},
       "output_type": "pyout",
       "prompt_number": 6,
       "text": [
        "(5712, 20)"
       ]
      }
     ],
     "prompt_number": 6
    },
    {
     "cell_type": "markdown",
     "metadata": {},
     "source": [
      "## Compute GMM"
     ]
    },
    {
     "cell_type": "code",
     "collapsed": false,
     "input": [
      "\"\"\"\n",
      "%%cache -d cache/fisher_vectors -f gmm.pkl gmm\n",
      "gmm = GMM(n_components=256, n_threads=16)\n",
      "gmm.fit(gmm_descs_subset)\n",
      "\"\"\""
     ],
     "language": "python",
     "metadata": {},
     "outputs": [
      {
       "metadata": {},
       "output_type": "pyout",
       "prompt_number": 3,
       "text": [
        "'\\n%%cache -d cache/fisher_vectors -f gmm.pkl gmm\\ngmm = GMM(n_components=256, n_threads=16)\\ngmm.fit(gmm_descs_subset)\\n'"
       ]
      }
     ],
     "prompt_number": 3
    },
    {
     "cell_type": "code",
     "collapsed": false,
     "input": [
      "#fisher_vector = pickleLoad('../models/fisher_vector_ulbp_descriptor.pkl')\n",
      "#fisher_vector = pickleLoad('../fisher_vector.pkl')\n",
      "fisher_vector = pickleLoad('../fisher_vector_learning.pkl')\n",
      "#fisher_vector.gmm.initYaelGmm()"
     ],
     "language": "python",
     "metadata": {},
     "outputs": [],
     "prompt_number": 3
    },
    {
     "cell_type": "code",
     "collapsed": false,
     "input": [
      "%timeit fisher_vector.gmm.computeResponsabilities(computeDenseDescriptor(training_data[0], pca=fisher_vector.pca, embed_spatial_information=False))"
     ],
     "language": "python",
     "metadata": {},
     "outputs": [
      {
       "output_type": "stream",
       "stream": "stdout",
       "text": [
        "100 loops, best of 3: 18.4 ms per loop\n"
       ]
      }
     ],
     "prompt_number": 8
    },
    {
     "cell_type": "code",
     "collapsed": false,
     "input": [
      "gmm_test_image = np.copy(training_data[1])\n",
      "\n",
      "def PEP(image, pca, gmm):\n",
      "    patches = computeDenseDescriptor(image, pca=pca, embed_spatial_information=False)\n",
      "    responsabilities = gmm.computeResponsabilities(patches)\n",
      "    argmaxes = np.argmax(responsabilities, axis=0)\n",
      "    return argmaxes\n",
      "    #return zip(np.argsort(np.diag(responsabilities[argmaxes]))[-20:][::-1], argmaxes[np.argsort(np.diag(responsabilities[argmaxes]))[-20:][::-1]])\n",
      "    \n",
      "centers = np.argsort(fisher_vector.gmm.weights_)[-20:][::-1]\n",
      "argmaxes = PEP(gmm_test_image, fisher_vector.pca, fisher_vector.gmm)\n",
      "print argmaxes\n",
      "\n",
      "gmm_test_image = np.copy(gmm_test_image)\n",
      "for k, index in enumerate(argmaxes[centers]):\n",
      "#for k, index in argmaxes:\n",
      "    cell_size, step = (24, 2)\n",
      "    img = gmm_test_image[45:205,63:187]\n",
      "    height, width = img.shape\n",
      "    scale = 1\n",
      "    n_cells_x = (width-cell_size)/step+1\n",
      "    pt1 = np.array([(index%n_cells_x)*step, (index/n_cells_x)*step])\n",
      "    pt2 = pt1 + (np.array([cell_size, cell_size]) * (1.41**(scale-1))).astype(np.int)\n",
      "    if pt1[1] > height or pt2[1] > height:\n",
      "        continue\n",
      "    cv2.rectangle(img, tuple(pt1), tuple(pt2), (255, 255, 255))\n",
      "    \n",
      "imshow(img)\n",
      "gray()"
     ],
     "language": "python",
     "metadata": {},
     "outputs": [
      {
       "output_type": "stream",
       "stream": "stdout",
       "text": [
        "[3281 4270  459  649 5570 3281 3438 3529  697 4958  935 2778 2061  638  867\n",
        " 1471 2365  561 3464 4669 5499 3280  803 3286 3491 3549 1093 2125 4900 2255\n",
        " 3220 5088 5639 5698 2982 1241  918 5042 2252 3482  640  839 1599 4776 1365\n",
        " 1682 3255 1043  905  851 2294 5520 1436  101    0 1133    0 3281  234 2142\n",
        " 1395 5475    0    0 3508 1950 5510 3469 3440 3328  889 3116 4788 2909  863\n",
        " 2935 1632 1081  496 5707 4402    0  602 3775  570 1290 1341 3910 3966   85\n",
        " 2025 1846 1346 1703    0 2984 3582 4783 3479 1282 1300 3517    0 1137 5670\n",
        "  642  970 3481 1479 2939 3196 1849 2024 5511 1620  935 2650  639   77 5247\n",
        " 1587  256  561    0 2585  792 3491 1199 5510 5521  736 1880 4938 4016  983\n",
        " 1416 1477 5490  194  918   51 3159 3507 2377 5055    0 4512 1291 3073 1395\n",
        " 5125  769  692 5582  313 4936 1280 2152 3514   94 1040 3385 1529  978 5077\n",
        " 1106 2266 2024 4849 3479 1460 5452 2723 5497 5609 5235 1411   27 1023 5512\n",
        "  408 1080 1393  492 3512 4975 3304  565    0 2696 1614 2519 4105  205 1315\n",
        " 2200 3476 3484 1099 5670 5133 1032  498 2447 3493 1820  901 5711 2914  935\n",
        "  809 2810 1296   44  138 1546 3077 2034 3075 5682 5002 2766 3512 2995  483\n",
        " 1281 1329 1864 3479 1784   84 5679  127 1396  715  885  348 1820 4959 2216\n",
        " 1030 5175 2223 5173 3281 1223   23 3122    7 4651 5671 5167    0  628 4842\n",
        " 2397 5013    0 3263  889 1304 2859 1097 1075 1095 1291 3674  937 5708 1642\n",
        " 3928 1977 1552 1724 3886 4606 3456  789 3337 5660 1743 1094 5660 4229  188\n",
        " 3924 2063 5561    0 3463  758 5511   30 3378 2355 3415 3187 3455 4014 5141\n",
        " 3073 3679 3502 5054 1427 5564 1609 5676 3282 2510 3970 3462 4201  356 5709\n",
        " 3479 3301  120 1921 3540 3259 5436   20 1391 5490  260    0 3459 3491 5135\n",
        "    0  945 4964 5552 5615  920 5154 3482 3380  554  925 2858 1173 4863 5453\n",
        " 1091  226 3702 1695 1214 2014   74 3315 2514 2582 1275  102 1284 4822 2003\n",
        " 5006 5518 3760  285  890 4936  132 4008 3412 3911 3374 1958 3175 5507 4983\n",
        " 1308  153 2704 5700 1149 1099 3281 1862 3505    0 4735 1262 3881 3518 5213\n",
        " 2262 3341 2568 3283 4146 1498 3975 4610  777 3213 5507    0 4819    0 4984\n",
        " 1031 1664 5365  696 4971    0 3521 2430 1809 2265  353   59 4215 5072  883\n",
        " 3491 3176 3182 1617 1446 3518 5176 2770 1594 3947 1128 5016 2762 5640 2195\n",
        " 2399 1209 1593  922 1230 1183 2607 2707 4735 5710 2271 2855 4160 2979 4767\n",
        " 4558 1532 3175  357    0 3281 2617 4190 2728 3486 3809  930 4000 5680   35\n",
        " 2023 5495 2220 1137 3488 4958 1290 5375    0 5654 1415 5575    0 3281  683\n",
        "  933   78 3854 3282 3292  206  941 5459  571 1947 3498 3317  978 3944 1817\n",
        "  142   35 3218 2957 1087 4105 4812 5325 5573  349 1074 1426 2827 1278 4768\n",
        " 2550 1279]\n"
       ]
      },
      {
       "metadata": {},
       "output_type": "display_data",
       "png": "[encoded data removed]",
       "text": [
        "<matplotlib.figure.Figure at 0x4c6f550>"
       ]
      }
     ],
     "prompt_number": 10
    },
    {
     "cell_type": "markdown",
     "metadata": {},
     "source": [
      "## PEP descriptor"
     ]
    },
    {
     "cell_type": "code",
     "collapsed": false,
     "input": [
      "def computePEP(image, pca, gmm):\n",
      "    patches = computeDenseDescriptor(image, pca=pca, embed_spatial_information=False)\n",
      "    responsabilities = gmm.computeResponsabilities(patches)\n",
      "    return patches[np.argmax(responsabilities, axis=0)].ravel()\n",
      "\n",
      "def computeEigenPEP(image, pca, gmm, pep_pca):\n",
      "    descriptor = computePEP(image, pca, gmm)\n",
      "    return pep_pca.transform(descriptor).ravel()"
     ],
     "language": "python",
     "metadata": {},
     "outputs": [],
     "prompt_number": 13
    },
    {
     "cell_type": "code",
     "collapsed": false,
     "input": [
      "%timeit computeEigenPEP(training_data[0], fisher_vector.pca, fisher_vector.gmm, pep_pca)"
     ],
     "language": "python",
     "metadata": {},
     "outputs": [
      {
       "output_type": "stream",
       "stream": "stdout",
       "text": [
        "10 loops, best of 3: 45.3 ms per loop\n"
       ]
      }
     ],
     "prompt_number": 14
    },
    {
     "cell_type": "code",
     "collapsed": false,
     "input": [
      "#%%cache -d cache/fisher_vectors pep_pca.pkl pep_pca\n",
      "random_indexes = random.sample(range(len(training_data)), 1000)\n",
      "descriptors = map(lambda image: computePEP(image, fisher_vector.pca, fisher_vector.gmm), training_data[random_indexes])\n",
      "\n",
      "pep_pca = PCA(copy=False)\n",
      "pep_pca.fit(descriptors)"
     ],
     "language": "python",
     "metadata": {},
     "outputs": [
      {
       "ename": "NameError",
       "evalue": "global name 'computePEP' is not defined",
       "output_type": "pyerr",
       "traceback": [
        "\u001b[1;31m---------------------------------------------------------------------------\u001b[0m\n\u001b[1;31mNameError\u001b[0m                                 Traceback (most recent call last)",
        "\u001b[1;32m<ipython-input-4-6e63cc6000bb>\u001b[0m in \u001b[0;36m<module>\u001b[1;34m()\u001b[0m\n\u001b[0;32m      1\u001b[0m \u001b[1;31m#%%cache -d cache/fisher_vectors pep_pca.pkl pep_pca\u001b[0m\u001b[1;33m\u001b[0m\u001b[1;33m\u001b[0m\u001b[0m\n\u001b[0;32m      2\u001b[0m \u001b[0mrandom_indexes\u001b[0m \u001b[1;33m=\u001b[0m \u001b[0mrandom\u001b[0m\u001b[1;33m.\u001b[0m\u001b[0msample\u001b[0m\u001b[1;33m(\u001b[0m\u001b[0mrange\u001b[0m\u001b[1;33m(\u001b[0m\u001b[0mlen\u001b[0m\u001b[1;33m(\u001b[0m\u001b[0mtraining_data\u001b[0m\u001b[1;33m)\u001b[0m\u001b[1;33m)\u001b[0m\u001b[1;33m,\u001b[0m \u001b[1;36m1000\u001b[0m\u001b[1;33m)\u001b[0m\u001b[1;33m\u001b[0m\u001b[0m\n\u001b[1;32m----> 3\u001b[1;33m \u001b[0mdescriptors\u001b[0m \u001b[1;33m=\u001b[0m \u001b[0mmap\u001b[0m\u001b[1;33m(\u001b[0m\u001b[1;32mlambda\u001b[0m \u001b[0mimage\u001b[0m\u001b[1;33m:\u001b[0m \u001b[0mcomputePEP\u001b[0m\u001b[1;33m(\u001b[0m\u001b[0mimage\u001b[0m\u001b[1;33m,\u001b[0m \u001b[0mfisher_vector\u001b[0m\u001b[1;33m.\u001b[0m\u001b[0mpca\u001b[0m\u001b[1;33m,\u001b[0m \u001b[0mfisher_vector\u001b[0m\u001b[1;33m.\u001b[0m\u001b[0mgmm\u001b[0m\u001b[1;33m)\u001b[0m\u001b[1;33m,\u001b[0m \u001b[0mtraining_data\u001b[0m\u001b[1;33m[\u001b[0m\u001b[0mrandom_indexes\u001b[0m\u001b[1;33m]\u001b[0m\u001b[1;33m)\u001b[0m\u001b[1;33m\u001b[0m\u001b[0m\n\u001b[0m\u001b[0;32m      4\u001b[0m \u001b[1;33m\u001b[0m\u001b[0m\n\u001b[0;32m      5\u001b[0m \u001b[0mpep_pca\u001b[0m \u001b[1;33m=\u001b[0m \u001b[0mPCA\u001b[0m\u001b[1;33m(\u001b[0m\u001b[0mcopy\u001b[0m\u001b[1;33m=\u001b[0m\u001b[0mFalse\u001b[0m\u001b[1;33m)\u001b[0m\u001b[1;33m\u001b[0m\u001b[0m\n",
        "\u001b[1;32m<ipython-input-4-6e63cc6000bb>\u001b[0m in \u001b[0;36m<lambda>\u001b[1;34m(image)\u001b[0m\n\u001b[0;32m      1\u001b[0m \u001b[1;31m#%%cache -d cache/fisher_vectors pep_pca.pkl pep_pca\u001b[0m\u001b[1;33m\u001b[0m\u001b[1;33m\u001b[0m\u001b[0m\n\u001b[0;32m      2\u001b[0m \u001b[0mrandom_indexes\u001b[0m \u001b[1;33m=\u001b[0m \u001b[0mrandom\u001b[0m\u001b[1;33m.\u001b[0m\u001b[0msample\u001b[0m\u001b[1;33m(\u001b[0m\u001b[0mrange\u001b[0m\u001b[1;33m(\u001b[0m\u001b[0mlen\u001b[0m\u001b[1;33m(\u001b[0m\u001b[0mtraining_data\u001b[0m\u001b[1;33m)\u001b[0m\u001b[1;33m)\u001b[0m\u001b[1;33m,\u001b[0m \u001b[1;36m1000\u001b[0m\u001b[1;33m)\u001b[0m\u001b[1;33m\u001b[0m\u001b[0m\n\u001b[1;32m----> 3\u001b[1;33m \u001b[0mdescriptors\u001b[0m \u001b[1;33m=\u001b[0m \u001b[0mmap\u001b[0m\u001b[1;33m(\u001b[0m\u001b[1;32mlambda\u001b[0m \u001b[0mimage\u001b[0m\u001b[1;33m:\u001b[0m \u001b[0mcomputePEP\u001b[0m\u001b[1;33m(\u001b[0m\u001b[0mimage\u001b[0m\u001b[1;33m,\u001b[0m \u001b[0mfisher_vector\u001b[0m\u001b[1;33m.\u001b[0m\u001b[0mpca\u001b[0m\u001b[1;33m,\u001b[0m \u001b[0mfisher_vector\u001b[0m\u001b[1;33m.\u001b[0m\u001b[0mgmm\u001b[0m\u001b[1;33m)\u001b[0m\u001b[1;33m,\u001b[0m \u001b[0mtraining_data\u001b[0m\u001b[1;33m[\u001b[0m\u001b[0mrandom_indexes\u001b[0m\u001b[1;33m]\u001b[0m\u001b[1;33m)\u001b[0m\u001b[1;33m\u001b[0m\u001b[0m\n\u001b[0m\u001b[0;32m      4\u001b[0m \u001b[1;33m\u001b[0m\u001b[0m\n\u001b[0;32m      5\u001b[0m \u001b[0mpep_pca\u001b[0m \u001b[1;33m=\u001b[0m \u001b[0mPCA\u001b[0m\u001b[1;33m(\u001b[0m\u001b[0mcopy\u001b[0m\u001b[1;33m=\u001b[0m\u001b[0mFalse\u001b[0m\u001b[1;33m)\u001b[0m\u001b[1;33m\u001b[0m\u001b[0m\n",
        "\u001b[1;31mNameError\u001b[0m: global name 'computePEP' is not defined"
       ]
      }
     ],
     "prompt_number": 4
    },
    {
     "cell_type": "code",
     "collapsed": false,
     "input": [
      "plot(np.cumsum(pep_pca.explained_variance_ratio_))\n",
      "_ = ylim(ymax=1.0)"
     ],
     "language": "python",
     "metadata": {},
     "outputs": [
      {
       "metadata": {},
       "output_type": "display_data",
       "png": "[encoded data removed]",
       "text": [
        "<matplotlib.figure.Figure at 0x4fa4d10>"
       ]
      }
     ],
     "prompt_number": 7
    },
    {
     "cell_type": "code",
     "collapsed": false,
     "input": [
      "pep_pca.n_components_ = 400\n",
      "pep_pca.components_ = pep_pca.components_[:400]\n",
      "pep_pca.whiten_ = True"
     ],
     "language": "python",
     "metadata": {},
     "outputs": [],
     "prompt_number": 8
    },
    {
     "cell_type": "code",
     "collapsed": false,
     "input": [
      "%timeit computeEigenPEP(training_data[0], fisher_vector.pca, fisher_vector.gmm, pep_pca)"
     ],
     "language": "python",
     "metadata": {},
     "outputs": [
      {
       "output_type": "stream",
       "stream": "stdout",
       "text": [
        "10 loops, best of 3: 43.1 ms per loop\n"
       ]
      }
     ],
     "prompt_number": 9
    },
    {
     "cell_type": "code",
     "collapsed": false,
     "input": [
      "eigenpep_descriptors = map(lambda image: computeEigenPEP(image, fisher_vector.pca, fisher_vector.gmm, pep_pca), test_data)\n",
      "scores = computeDistanceMatrix(eigenpep_descriptors, test_set_ground_truth, cosineDistance)\n",
      "acc = computeAccuracy(scores)\n",
      "roc = computeROC(scores)\n",
      "plotROC([roc], [\"Eigen PEP\"])"
     ],
     "language": "python",
     "metadata": {},
     "outputs": [
      {
       "metadata": {},
       "output_type": "display_data",
       "png": "[encoded data removed]",
       "text": [
        "<matplotlib.figure.Figure at 0x53af190>"
       ]
      }
     ],
     "prompt_number": 10
    },
    {
     "cell_type": "markdown",
     "metadata": {},
     "source": [
      "## Fisher vector"
     ]
    },
    {
     "cell_type": "code",
     "collapsed": false,
     "input": [
      "def computeFisherVector(patches, gmm, improved=True):\n",
      "    K = gmm.n_components\n",
      "    d = patches[0].shape[0]\n",
      "    N = len(patches)\n",
      "\n",
      "    vector = np.empty((2*K, d), dtype=np.float32)\n",
      "    \n",
      "    soft_assignments = gmm.computeResponsabilities(patches)\n",
      "    squared_patches = patches ** 2\n",
      "    \n",
      "    for k in range(K):\n",
      "        S_0 = soft_assignments[:,k].mean()\n",
      "        S_1 = (soft_assignments[:,k,np.newaxis] * patches).mean(axis=0)\n",
      "        S_2 = (soft_assignments[:,k,np.newaxis] * squared_patches).mean(axis=0)\n",
      "        \n",
      "        vector[2*k] = (S_1 - gmm.means_[k]*S_0) / (np.sqrt(gmm.weights_[k] * gmm.covars_[k]))\n",
      "        vector[2*k+1] = (S_2 - 2*gmm.means_[k]*S_1 + (gmm.means_[k]**2-gmm.covars_[k]**2)*S_0) / (np.sqrt(2*gmm.weights_[k]) * gmm.covars_[k])\n",
      "    \n",
      "    vector = vector.ravel()\n",
      "    \n",
      "    if improved:\n",
      "        # Signed square-rooting\n",
      "        vector = np.sign(vector) * np.sqrt(np.abs(vector))\n",
      "        \n",
      "        # L2 normalization\n",
      "        vector /= np.linalg.norm(vector)\n",
      "        \n",
      "    return vector"
     ],
     "language": "python",
     "metadata": {},
     "outputs": [],
     "prompt_number": 4
    },
    {
     "cell_type": "code",
     "collapsed": false,
     "input": [
      "fisher_vector.computeFisherVector(computeDenseDescriptor(training_data[0], pca=fisher_vector.pca, embed_spatial_information=False), fisher_vector.gmm)"
     ],
     "language": "python",
     "metadata": {},
     "outputs": [
      {
       "metadata": {},
       "output_type": "pyout",
       "prompt_number": 5,
       "text": [
        "array([ -9.96797535e-05,   2.87454779e-04,   2.18010944e-04, ...,\n",
        "        -1.08816735e-02,  -7.70612899e-03,  -1.11131035e-02], dtype=float32)"
       ]
      }
     ],
     "prompt_number": 5
    },
    {
     "cell_type": "code",
     "collapsed": false,
     "input": [
      "patches = computeDenseDescriptor(training_data[0], pca=fisher_vector.pca, embed_spatial_information=False)\n",
      "%timeit fisher_vector.computeFisherVector(patches, fisher_vector.gmm)"
     ],
     "language": "python",
     "metadata": {},
     "outputs": [
      {
       "output_type": "stream",
       "stream": "stdout",
       "text": [
        "1 loops, best of 3: 338 ms per loop\n"
       ]
      }
     ],
     "prompt_number": 6
    },
    {
     "cell_type": "code",
     "collapsed": false,
     "input": [
      "patches = computeDenseDescriptor(training_data[0], pca=fisher_vector.pca)\n",
      "fv = fisher_vector.yaelFV(patches, improved=True)\n",
      "np.linalg.norm(fv)"
     ],
     "language": "python",
     "metadata": {},
     "outputs": [
      {
       "metadata": {},
       "output_type": "pyout",
       "prompt_number": 7,
       "text": [
        "1.0000004"
       ]
      }
     ],
     "prompt_number": 7
    },
    {
     "cell_type": "code",
     "collapsed": false,
     "input": [
      "patches = computeDenseDescriptor(training_data[0], pca=fisher_vector.pca)\n",
      "%timeit fisher_vector.yaelFV(patches)"
     ],
     "language": "python",
     "metadata": {},
     "outputs": [
      {
       "output_type": "stream",
       "stream": "stdout",
       "text": [
        "10 loops, best of 3: 65.1 ms per loop\n"
       ]
      }
     ],
     "prompt_number": 8
    },
    {
     "cell_type": "code",
     "collapsed": false,
     "input": [
      "supervised_learning_data = training_data[supervised_learning_indexes]"
     ],
     "language": "python",
     "metadata": {},
     "outputs": [],
     "prompt_number": 9
    },
    {
     "cell_type": "code",
     "collapsed": false,
     "input": [
      "def computeCompleteFisherVector(image, fisher_vector, embed_spatial_information=False):\n",
      "    patches = computeDenseDescriptor(image, pca=fisher_vector.pca, embed_spatial_information=embed_spatial_information)\n",
      "    #return fisher_vector.computeFisherVector(patches)\n",
      "    return fisher_vector.yaelFV(patches)"
     ],
     "language": "python",
     "metadata": {},
     "outputs": [],
     "prompt_number": 10
    },
    {
     "cell_type": "code",
     "collapsed": false,
     "input": [
      "%%cache -d cache/fisher_vectors training_fisher_vectors.pkl training_fisher_vectors\n",
      "\n",
      "def parallelizedCompleteFisherVector(data, output, i, fisher_vector):\n",
      "    output[i] = computeCompleteFisherVector(data[i], fisher_vector)\n",
      "\n",
      "n_samples = supervised_learning_data.shape[0]\n",
      "n_features = fisher_vector.gmm.n_components * 2 * 20\n",
      "training_fisher_vectors_filename = \"cache/fisher_vectors/training_fisher_vectors.mmap\"\n",
      "#training_fisher_vectors = parallelize(parallelizedCompleteFisherVector, supervised_learning_data, (n_samples, n_features),  np.float32, args=[fisher_vector], n_jobs=8, output_file=training_fisher_vectors_filename)\n",
      "training_fisher_vectors = np.empty((n_samples, n_features), dtype=np.float32)\n",
      "for i, image in enumerate(supervised_learning_data):\n",
      "    training_fisher_vectors[i] = computeCompleteFisherVector(image, fisher_vector)"
     ],
     "language": "python",
     "metadata": {},
     "outputs": [
      {
       "output_type": "stream",
       "stream": "stdout",
       "text": [
        "[Skipped the cell's code and loaded variables training_fisher_vectors from file '/home/tlorieul/Dev/Snoop/src/lib/Python/notebooks/cache/fisher_vectors/training_fisher_vectors.pkl'.]\n"
       ]
      }
     ],
     "prompt_number": 5
    },
    {
     "cell_type": "code",
     "collapsed": false,
     "input": [
      "print training_fisher_vectors.shape"
     ],
     "language": "python",
     "metadata": {},
     "outputs": [
      {
       "output_type": "stream",
       "stream": "stdout",
       "text": [
        "(3264, 20480)\n"
       ]
      }
     ],
     "prompt_number": 5
    },
    {
     "cell_type": "code",
     "collapsed": false,
     "input": [
      "labels = list(set(y))\n",
      "sampled_labels = random.sample(labels, 20)\n",
      "sampled_fv = np.empty((0, training_fisher_vectors.shape[1]), dtype=np.float32)\n",
      "sampled_y = np.empty((0), dtype=np.int8)\n",
      "for label in sampled_labels:\n",
      "    subset = random.sample(np.where(y==label)[0], 10)\n",
      "    sampled_fv = np.append(sampled_fv, training_fisher_vectors[subset], axis=0)\n",
      "    sampled_y = np.append(sampled_y, y[subset], axis=0)\n",
      "\n",
      "print sampled_fv.shape, sampled_y.shape"
     ],
     "language": "python",
     "metadata": {},
     "outputs": [
      {
       "output_type": "stream",
       "stream": "stdout",
       "text": [
        "(200, 20480) (200,)\n"
       ]
      }
     ],
     "prompt_number": 6
    },
    {
     "cell_type": "code",
     "collapsed": false,
     "input": [
      "del training_fisher_vectors"
     ],
     "language": "python",
     "metadata": {},
     "outputs": [],
     "prompt_number": 7
    },
    {
     "cell_type": "code",
     "collapsed": false,
     "input": [
      "%%cache -d cache/fisher_vectors -f diagonal_metric.pkl diagonal_metric\n",
      "\n",
      "from learning.mahalanobis_metric import DiagonalMahalanobisMetric\n",
      "diagonal_metric = DiagonalMahalanobisMetric()\n",
      "#diagonal_metric.fit(training_fisher_vectors, y, n_samples=int(1e4))\n",
      "\"\"\"\n",
      "random_sampling = random.sample(range(len(training_fisher_vectors)), 200)\n",
      "diagonal_metric.fit(training_fisher_vectors[random_sampling], y[random_sampling])\n",
      "\"\"\"\n",
      "diagonal_metric.fit(sampled_fv, sampled_y)"
     ],
     "language": "python",
     "metadata": {},
     "outputs": [
      {
       "output_type": "stream",
       "stream": "stdout",
       "text": [
        "[Saved variables diagonal_metric to file '/home/tlorieul/Dev/Snoop/src/lib/Python/notebooks/cache/fisher_vectors/diagonal_metric.pkl'.]\n",
        "Creating X and y vectors...\n",
        "Performing SGD...\n",
        "Finished with score: 0.045226\n"
       ]
      }
     ],
     "prompt_number": 8
    },
    {
     "cell_type": "code",
     "collapsed": false,
     "input": [
      "print diagonal_metric.W_, diagonal_metric.b_"
     ],
     "language": "python",
     "metadata": {},
     "outputs": [
      {
       "output_type": "stream",
       "stream": "stdout",
       "text": [
        "[  1.74886290e-04   1.76144907e-05   5.77682711e-05 ...,  -3.11440590e-05\n",
        "  -3.22341805e-05   3.24000081e-05] -0.42892272671\n"
       ]
      }
     ],
     "prompt_number": 8
    },
    {
     "cell_type": "code",
     "collapsed": false,
     "input": [
      "%%cache -d cache/fisher_vectors -f test_fisher_vectors.pkl test_fisher_vectors\n",
      "\n",
      "def parallelizedCompleteFisherVector(data, output, i, fisher_vector):\n",
      "    output[i] = computeCompleteFisherVector(data[i], fisher_vector)\n",
      "\n",
      "n_samples = test_data.shape[0]\n",
      "n_features = fisher_vector.gmm.n_components * 2 * 20\n",
      "training_fisher_vectors_filename = \"cache/fisher_vectors/test_data.mmap\"\n",
      "\n",
      "test_fisher_vectors = np.empty((n_samples, n_features), dtype=np.float32)\n",
      "for i, image in enumerate(test_data):\n",
      "    test_fisher_vectors[i] = computeCompleteFisherVector(image, fisher_vector)\n",
      "\n",
      "#test_fisher_vectors = parallelize(parallelizedCompleteFisherVector, test_data, (n_samples, n_features), np.float32, args=[pca, gmm], n_jobs=8, output_file=test_fisher_vectors_filename)"
     ],
     "language": "python",
     "metadata": {},
     "outputs": [
      {
       "output_type": "stream",
       "stream": "stdout",
       "text": [
        "[Saved variables test_fisher_vectors to file '/home/tlorieul/Dev/Snoop/src/lib/Python/notebooks/cache/fisher_vectors/test_fisher_vectors.pkl'.]\n"
       ]
      }
     ],
     "prompt_number": 11
    },
    {
     "cell_type": "code",
     "collapsed": false,
     "input": [
      "scores = computeDistanceMatrix(test_fisher_vectors, test_set_ground_truth, diagonal_metric.mesureDistance)\n",
      "acc = computeAccuracy(scores, thresholds=np.linspace(0.00003, 0.00009, num=100))\n",
      "roc = computeROC(scores, thresholds=np.linspace(0.00003, 0.00009, num=100))\n",
      "plotROC([roc], [\"Fisher vectors (diag metric)\"])\n",
      "print acc"
     ],
     "language": "python",
     "metadata": {},
     "outputs": [
      {
       "output_type": "stream",
       "stream": "stdout",
       "text": [
        "0.5\n"
       ]
      },
      {
       "metadata": {},
       "output_type": "display_data",
       "png": "[encoded data removed]",
       "text": [
        "<matplotlib.figure.Figure at 0x595e850>"
       ]
      }
     ],
     "prompt_number": 14
    },
    {
     "cell_type": "code",
     "collapsed": false,
     "input": [
      "_ = hist(scores[0], bins=80, histtype=\"step\", color=\"g\")\n",
      "_ = hist(scores[1], bins=80, histtype=\"step\", color=\"r\")"
     ],
     "language": "python",
     "metadata": {},
     "outputs": [
      {
       "metadata": {},
       "output_type": "display_data",
       "png": "[encoded data removed]",
       "text": [
        "<matplotlib.figure.Figure at 0x59a0890>"
       ]
      }
     ],
     "prompt_number": 11
    },
    {
     "cell_type": "markdown",
     "metadata": {},
     "source": [
      "## Large-margin discriminative dimensionality reduction"
     ]
    },
    {
     "cell_type": "code",
     "collapsed": false,
     "input": [
      "#%%cache -d cache/fisher_vectors large_margin_dimension_reduction.pkl large_margin_dimension_reduction\n",
      "from learning.large_margin_dimension_reduction import LargeMarginDimensionReduction\n",
      "large_margin_dimension_reduction = LargeMarginDimensionReduction(n_components=128, n_iter=int(1e3))\n",
      "large_margin_dimension_reduction.fit(training_fisher_vectors, y)"
     ],
     "language": "python",
     "metadata": {},
     "outputs": [
      {
       "output_type": "stream",
       "stream": "stdout",
       "text": [
        "Initializing with PCA...\n"
       ]
      },
      {
       "output_type": "stream",
       "stream": "stdout",
       "text": [
        "Initializing b...\n"
       ]
      },
      {
       "output_type": "stream",
       "stream": "stdout",
       "text": [
        "1.0\n"
       ]
      },
      {
       "output_type": "stream",
       "stream": "stdout",
       "text": [
        "12.0\n"
       ]
      },
      {
       "output_type": "stream",
       "stream": "stdout",
       "text": [
        "23.0\n"
       ]
      },
      {
       "output_type": "stream",
       "stream": "stdout",
       "text": [
        "34.0\n"
       ]
      },
      {
       "output_type": "stream",
       "stream": "stdout",
       "text": [
        "45.0\n"
       ]
      },
      {
       "output_type": "stream",
       "stream": "stdout",
       "text": [
        "56.0\n"
       ]
      },
      {
       "output_type": "stream",
       "stream": "stdout",
       "text": [
        "67.0\n"
       ]
      },
      {
       "output_type": "stream",
       "stream": "stdout",
       "text": [
        "78.0\n"
       ]
      },
      {
       "output_type": "stream",
       "stream": "stdout",
       "text": [
        "89.0\n"
       ]
      },
      {
       "output_type": "stream",
       "stream": "stdout",
       "text": [
        "100.0\n"
       ]
      },
      {
       "output_type": "stream",
       "stream": "stdout",
       "text": [
        "Current best b value: 1.000000\n"
       ]
      },
      {
       "output_type": "stream",
       "stream": "stdout",
       "text": [
        "-10.0\n"
       ]
      },
      {
       "output_type": "stream",
       "stream": "stdout",
       "text": [
        "-7.55555555556\n"
       ]
      },
      {
       "output_type": "stream",
       "stream": "stdout",
       "text": [
        "-5.11111111111\n"
       ]
      },
      {
       "output_type": "stream",
       "stream": "stdout",
       "text": [
        "-2.66666666667\n"
       ]
      },
      {
       "output_type": "stream",
       "stream": "stdout",
       "text": [
        "-0.222222222222\n"
       ]
      },
      {
       "output_type": "stream",
       "stream": "stdout",
       "text": [
        "2.22222222222\n"
       ]
      },
      {
       "output_type": "stream",
       "stream": "stdout",
       "text": [
        "4.66666666667\n"
       ]
      },
      {
       "output_type": "stream",
       "stream": "stdout",
       "text": [
        "7.11111111111\n"
       ]
      },
      {
       "output_type": "stream",
       "stream": "stdout",
       "text": [
        "9.55555555556\n"
       ]
      },
      {
       "output_type": "stream",
       "stream": "stdout",
       "text": [
        "12.0\n"
       ]
      },
      {
       "output_type": "stream",
       "stream": "stdout",
       "text": [
        "Current best b value: -10.000000\n"
       ]
      },
      {
       "output_type": "stream",
       "stream": "stdout",
       "text": [
        "-12.4444444444\n"
       ]
      },
      {
       "output_type": "stream",
       "stream": "stdout",
       "text": [
        "-11.9012345679\n"
       ]
      },
      {
       "output_type": "stream",
       "stream": "stdout",
       "text": [
        "-11.3580246914\n"
       ]
      },
      {
       "output_type": "stream",
       "stream": "stdout",
       "text": [
        "-10.8148148148\n"
       ]
      },
      {
       "output_type": "stream",
       "stream": "stdout",
       "text": [
        "-10.2716049383\n"
       ]
      },
      {
       "output_type": "stream",
       "stream": "stdout",
       "text": [
        "-9.72839506173\n"
       ]
      },
      {
       "output_type": "stream",
       "stream": "stdout",
       "text": [
        "-9.18518518519\n"
       ]
      },
      {
       "output_type": "stream",
       "stream": "stdout",
       "text": [
        "-8.64197530864\n"
       ]
      },
      {
       "output_type": "stream",
       "stream": "stdout",
       "text": [
        "-8.0987654321\n"
       ]
      },
      {
       "output_type": "stream",
       "stream": "stdout",
       "text": [
        "-7.55555555556\n"
       ]
      },
      {
       "output_type": "stream",
       "stream": "stdout",
       "text": [
        "Current best b value: -12.444444\n"
       ]
      },
      {
       "output_type": "stream",
       "stream": "stdout",
       "text": [
        "-12.987654321\n"
       ]
      },
      {
       "ename": "KeyboardInterrupt",
       "evalue": "",
       "output_type": "pyerr",
       "traceback": [
        "\u001b[1;31m---------------------------------------------------------------------------\u001b[0m\n\u001b[1;31mKeyboardInterrupt\u001b[0m                         Traceback (most recent call last)",
        "\u001b[1;32m<ipython-input-6-3f53165a2f3f>\u001b[0m in \u001b[0;36m<module>\u001b[1;34m()\u001b[0m\n\u001b[0;32m      2\u001b[0m \u001b[1;32mfrom\u001b[0m \u001b[0mlearning\u001b[0m\u001b[1;33m.\u001b[0m\u001b[0mlarge_margin_dimension_reduction\u001b[0m \u001b[1;32mimport\u001b[0m \u001b[0mLargeMarginDimensionReduction\u001b[0m\u001b[1;33m\u001b[0m\u001b[0m\n\u001b[0;32m      3\u001b[0m \u001b[0mlarge_margin_dimension_reduction\u001b[0m \u001b[1;33m=\u001b[0m \u001b[0mLargeMarginDimensionReduction\u001b[0m\u001b[1;33m(\u001b[0m\u001b[0mn_components\u001b[0m\u001b[1;33m=\u001b[0m\u001b[1;36m128\u001b[0m\u001b[1;33m,\u001b[0m \u001b[0mn_iter\u001b[0m\u001b[1;33m=\u001b[0m\u001b[0mint\u001b[0m\u001b[1;33m(\u001b[0m\u001b[1;36m1e3\u001b[0m\u001b[1;33m)\u001b[0m\u001b[1;33m)\u001b[0m\u001b[1;33m\u001b[0m\u001b[0m\n\u001b[1;32m----> 4\u001b[1;33m \u001b[0mlarge_margin_dimension_reduction\u001b[0m\u001b[1;33m.\u001b[0m\u001b[0mfit\u001b[0m\u001b[1;33m(\u001b[0m\u001b[0mtraining_fisher_vectors\u001b[0m\u001b[1;33m,\u001b[0m \u001b[0my\u001b[0m\u001b[1;33m)\u001b[0m\u001b[1;33m\u001b[0m\u001b[0m\n\u001b[0m",
        "\u001b[1;32m/home/tlorieul/Dev/Snoop/src/lib/Python/learning/large_margin_dimension_reduction.pyc\u001b[0m in \u001b[0;36mfit\u001b[1;34m(self, X, y)\u001b[0m\n\u001b[0;32m     23\u001b[0m         \u001b[1;32mprint\u001b[0m \u001b[1;34m'Initializing b...'\u001b[0m\u001b[1;33m\u001b[0m\u001b[0m\n\u001b[0;32m     24\u001b[0m         \u001b[0msys\u001b[0m\u001b[1;33m.\u001b[0m\u001b[0mstdout\u001b[0m\u001b[1;33m.\u001b[0m\u001b[0mflush\u001b[0m\u001b[1;33m(\u001b[0m\u001b[1;33m)\u001b[0m\u001b[1;33m\u001b[0m\u001b[0m\n\u001b[1;32m---> 25\u001b[1;33m         \u001b[0mb\u001b[0m \u001b[1;33m=\u001b[0m \u001b[0mself\u001b[0m\u001b[1;33m.\u001b[0m\u001b[0minitializeB_\u001b[0m\u001b[1;33m(\u001b[0m\u001b[0mX\u001b[0m\u001b[1;33m,\u001b[0m \u001b[0my\u001b[0m\u001b[1;33m,\u001b[0m \u001b[0mW\u001b[0m\u001b[1;33m)\u001b[0m\u001b[1;33m\u001b[0m\u001b[0m\n\u001b[0m\u001b[0;32m     26\u001b[0m \u001b[1;33m\u001b[0m\u001b[0m\n\u001b[0;32m     27\u001b[0m         \u001b[0mlabels\u001b[0m \u001b[1;33m=\u001b[0m \u001b[0mlist\u001b[0m\u001b[1;33m(\u001b[0m\u001b[0mset\u001b[0m\u001b[1;33m(\u001b[0m\u001b[0my\u001b[0m\u001b[1;33m)\u001b[0m\u001b[1;33m)\u001b[0m\u001b[1;33m\u001b[0m\u001b[0m\n",
        "\u001b[1;32m/home/tlorieul/Dev/Snoop/src/lib/Python/learning/large_margin_dimension_reduction.pyc\u001b[0m in \u001b[0;36minitializeB_\u001b[1;34m(self, X, y, W, n_rec, n_num)\u001b[0m\n\u001b[0;32m    115\u001b[0m                         \u001b[0mdelta\u001b[0m \u001b[1;33m=\u001b[0m \u001b[0mX2\u001b[0m\u001b[1;33m[\u001b[0m\u001b[0mi\u001b[0m\u001b[1;33m]\u001b[0m\u001b[1;33m-\u001b[0m\u001b[0mX2\u001b[0m\u001b[1;33m[\u001b[0m\u001b[0mj\u001b[0m\u001b[1;33m]\u001b[0m\u001b[1;33m\u001b[0m\u001b[0m\n\u001b[0;32m    116\u001b[0m                         \u001b[1;32mif\u001b[0m \u001b[0my_\u001b[0m\u001b[1;33m*\u001b[0m\u001b[1;33m(\u001b[0m\u001b[0mb\u001b[0m\u001b[1;33m-\u001b[0m\u001b[0mnp\u001b[0m\u001b[1;33m.\u001b[0m\u001b[0minner\u001b[0m\u001b[1;33m(\u001b[0m\u001b[0mdelta\u001b[0m\u001b[1;33m,\u001b[0m \u001b[0mdelta\u001b[0m\u001b[1;33m)\u001b[0m\u001b[1;33m)\u001b[0m \u001b[1;33m>\u001b[0m \u001b[1;36m1\u001b[0m\u001b[1;33m:\u001b[0m\u001b[1;33m\u001b[0m\u001b[0m\n\u001b[1;32m--> 117\u001b[1;33m                             \u001b[0macc\u001b[0m \u001b[1;33m+=\u001b[0m \u001b[1;36m1\u001b[0m\u001b[1;33m\u001b[0m\u001b[0m\n\u001b[0m\u001b[0;32m    118\u001b[0m \u001b[1;33m\u001b[0m\u001b[0m\n\u001b[0;32m    119\u001b[0m                 \u001b[0macc_values\u001b[0m\u001b[1;33m.\u001b[0m\u001b[0mappend\u001b[0m\u001b[1;33m(\u001b[0m\u001b[0macc\u001b[0m\u001b[1;33m)\u001b[0m\u001b[1;33m\u001b[0m\u001b[0m\n",
        "\u001b[1;31mKeyboardInterrupt\u001b[0m: "
       ]
      }
     ],
     "prompt_number": 6
    },
    {
     "cell_type": "code",
     "collapsed": false,
     "input": [
      "compressed_data = large_margin_dimension_reduction.transform(test_fisher_vectors)\n",
      "scores = computeDistanceMatrix(compressed_data, test_set_ground_truth, lambda x,y: -np.inner(x-y, x-y))\n",
      "acc = computeAccuracy(scores, thresholds=np.linspace(-40000, -10000, num=100))\n",
      "roc = computeROC(scores, thresholds=np.linspace(-40000, -10000, num=100))\n",
      "print acc\n",
      "plotROC([roc], [\"Large-margin dimension reduction\"])"
     ],
     "language": "python",
     "metadata": {},
     "outputs": [
      {
       "output_type": "stream",
       "stream": "stdout",
       "text": [
        "0.638\n"
       ]
      },
      {
       "metadata": {},
       "output_type": "display_data",
       "png": "[encoded data removed]",
       "text": [
        "<matplotlib.figure.Figure at 0x4d41790>"
       ]
      }
     ],
     "prompt_number": 14
    },
    {
     "cell_type": "code",
     "collapsed": false,
     "input": [
      "_ = hist(scores[0], bins=80, histtype=\"step\", color=\"g\")\n",
      "_ = hist(scores[1], bins=80, histtype=\"step\", color=\"r\")"
     ],
     "language": "python",
     "metadata": {},
     "outputs": [
      {
       "metadata": {},
       "output_type": "display_data",
       "png": "[encoded data removed]",
       "text": [
        "<matplotlib.figure.Figure at 0x4d41d10>"
       ]
      }
     ],
     "prompt_number": 13
    },
    {
     "cell_type": "code",
     "collapsed": false,
     "input": [
      "print large_margin_dimension_reduction.W_.shape, np.asarray(test_descriptors).shape"
     ],
     "language": "python",
     "metadata": {},
     "outputs": [
      {
       "output_type": "stream",
       "stream": "stdout",
       "text": [
        " (200, 10240) "
       ]
      },
      {
       "output_type": "stream",
       "stream": "stdout",
       "text": [
        "(3708, 10240)\n"
       ]
      }
     ],
     "prompt_number": 115
    },
    {
     "cell_type": "code",
     "collapsed": false,
     "input": [],
     "language": "python",
     "metadata": {},
     "outputs": []
    }
   ],
   "metadata": {}
  }
 ]
}