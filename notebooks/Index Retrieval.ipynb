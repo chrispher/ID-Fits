{
 "metadata": {
  "name": "",
  "signature": "sha256:3ff14b7b9546b06da497f56b0c4fc6f8ff523c6d706102dea01b85b7faab3dc6"
 },
 "nbformat": 3,
 "nbformat_minor": 0,
 "worksheets": [
  {
   "cells": [
    {
     "cell_type": "code",
     "collapsed": false,
     "input": [
      "%pylab inline\n",
      "\n",
      "from tools import *\n",
      "from dataset import *\n",
      "from database import *\n",
      "from PythonWrapper.descriptors import *\n",
      "from search import *"
     ],
     "language": "python",
     "metadata": {},
     "outputs": [
      {
       "output_type": "stream",
       "stream": "stdout",
       "text": [
        "Populating the interactive namespace from numpy and matplotlib\n"
       ]
      }
     ],
     "prompt_number": 1
    },
    {
     "cell_type": "code",
     "collapsed": false,
     "input": [
      "mapping = loadMapping()\n",
      "descriptors = np.load(\"descriptors/ulbp_pca_lda_normalized_data_lbf_alignment_68_landmarks.npy\")\n",
      "database = loadDatabase(desc=\"ulbp_pca_lda\", db=\"normalized_data_lbf_alignment_68_landmarks\")"
     ],
     "language": "python",
     "metadata": {},
     "outputs": [],
     "prompt_number": 2
    },
    {
     "cell_type": "code",
     "collapsed": false,
     "input": [
      "%timeit nnList(descriptors[0], database, 20)"
     ],
     "language": "python",
     "metadata": {},
     "outputs": [
      {
       "output_type": "stream",
       "stream": "stdout",
       "text": [
        "10 loops, best of 3: 39.5 ms per loop\n"
       ]
      }
     ],
     "prompt_number": 3
    },
    {
     "cell_type": "code",
     "collapsed": false,
     "input": [
      "scores = []\n",
      "\n",
      "for name, i in mapping:\n",
      "    index = mapping[(name, i)]\n",
      "    nn_scores, best_scores = nnSearch(descriptors[index], database, 21)\n",
      "    for label, score in nn_scores:\n",
      "        if label == name:\n",
      "            scores.append((name, label, True, score))\n",
      "            #scores.append((True, score - best_scores[0][1]))\n",
      "        else:\n",
      "            scores.append((name, label, False, score))\n",
      "            \n",
      "scores.sort(key=lambda x: x[-1], reverse=True)"
     ],
     "language": "python",
     "metadata": {},
     "outputs": [],
     "prompt_number": 4
    },
    {
     "cell_type": "code",
     "collapsed": false,
     "input": [
      "precision = []\n",
      "recall = []\n",
      "\n",
      "\n",
      "tn = fp = 0\n",
      "tp = fn = 0\n",
      "for _, _, is_match, score in scores:\n",
      "    if is_match:\n",
      "        fn += 1\n",
      "    else:\n",
      "        tn += 1\n",
      "\n",
      "\n",
      "for i in range(0, len(scores)):\n",
      "    for (_, _, is_match, score) in scores[i:(i+1)]:\n",
      "        if is_match:\n",
      "            tp += 1\n",
      "            fn -= 1 \n",
      "        else:\n",
      "            fp += 1\n",
      "            tn -= 1\n",
      "            \n",
      "    precision.append(tp / float(tp + fp))\n",
      "    recall.append(tp / float(tp + fn))"
     ],
     "language": "python",
     "metadata": {},
     "outputs": [],
     "prompt_number": 5
    },
    {
     "cell_type": "code",
     "collapsed": false,
     "input": [
      "plot(recall, precision)\n",
      "xlabel(\"Recall\")\n",
      "ylabel(\"Precision\")"
     ],
     "language": "python",
     "metadata": {},
     "outputs": [
      {
       "metadata": {},
       "output_type": "pyout",
       "prompt_number": 6,
       "text": [
        "<matplotlib.text.Text at 0x6902fd0>"
       ]
      },
      {
       "metadata": {},
       "output_type": "display_data",
       "png": "[encoded data removed]",
       "text": [
        "<matplotlib.figure.Figure at 0x3cb1ed0>"
       ]
      }
     ],
     "prompt_number": 6
    },
    {
     "cell_type": "code",
     "collapsed": false,
     "input": [
      "print np.argmin(precision)"
     ],
     "language": "python",
     "metadata": {},
     "outputs": [
      {
       "output_type": "stream",
       "stream": "stdout",
       "text": [
        "0\n"
       ]
      }
     ],
     "prompt_number": 7
    },
    {
     "cell_type": "code",
     "collapsed": false,
     "input": [
      "print np.max(precision)"
     ],
     "language": "python",
     "metadata": {},
     "outputs": [
      {
       "output_type": "stream",
       "stream": "stdout",
       "text": [
        "0.0245901639344\n"
       ]
      }
     ],
     "prompt_number": 8
    },
    {
     "cell_type": "code",
     "collapsed": false,
     "input": [
      "for t in scores[:50]:\n",
      "    print t"
     ],
     "language": "python",
     "metadata": {},
     "outputs": [
      {
       "output_type": "stream",
       "stream": "stdout",
       "text": [
        "('Maria_Soledad_Alvear_Valenzuela', 'Winona_Ryder', False, 2.2791362924015397)\n",
        "('Candice_Bergen', 'Naomi_Watts', False, 2.2530519002391838)\n",
        "('Helen_Alvare', 'Laura_Bush', False, 2.2291835827216326)\n",
        "('Melissa_Gilbert', 'Salma_Hayek', False, 2.2169119835908413)\n",
        "('Ricardo_Lagos', 'Ariel_Sharon', False, 2.1926706551719648)\n",
        "('Angela_Bassett', 'Halle_Berry', False, 2.1774721511412807)\n",
        "('Charles_Moose', 'George_W_Bush', False, 2.1463076331517112)\n",
        "('Angela_Bassett', 'Amelia_Vega', False, 2.1436357349420661)\n",
        "('Bridget_Fonda', 'George_W_Bush', False, 2.1325797557133694)\n",
        "('Ricardo_Lagos', 'Ariel_Sharon', False, 2.0990733176677701)\n",
        "('Carlos_Paternina', 'Amelie_Mauresmo', False, 2.0981016081717052)\n",
        "('Evan_Rachel_Wood', 'Laura_Bush', False, 2.0880585396229727)\n",
        "('Angela_Bassett', 'Halle_Berry', False, 2.0792051748135529)\n",
        "('Yukiko_Okudo', 'Laura_Bush', False, 2.0699812293481856)\n",
        "('Kim_Clijsters', 'Tiger_Woods', False, 2.0694565408787686)\n",
        "('Kristin_Davis', 'Naomi_Watts', False, 2.0598398993751448)\n",
        "('Amelia_Vega', 'George_W_Bush', False, 2.0345181298712345)\n",
        "('Norah_Jones', 'George_W_Bush', False, 2.0288811597828169)\n",
        "('Francis_Collins', 'Bill_Gates', False, 2.0262335192903889)\n",
        "('Hu_Maoyuan', 'Colin_Powell', False, 2.0250065203671079)\n",
        "('Ann_Veneman', 'Laura_Bush', False, 2.0242830245829091)\n",
        "('Kang_Gum-sil', 'Salma_Hayek', False, 2.0215466087404868)\n",
        "('Princess_Caroline', 'George_W_Bush', False, 2.011331457344856)\n",
        "('Annette_Lu', 'Yoriko_Kawaguchi', False, 2.0110505553081293)\n",
        "('Oxana_Fedorova', 'Laura_Bush', False, 2.0086439285996414)\n",
        "('Amram_Mitzna', 'George_W_Bush', False, 2.0011335345508177)\n",
        "('Amelia_Vega', 'George_W_Bush', False, 1.9998353235811939)\n",
        "('Woody_Allen', 'Hans_Blix', False, 1.9858240125782884)\n",
        "('Chelsea_Clinton', 'George_W_Bush', False, 1.984946918790182)\n",
        "('Richard_Rodriguez', 'Mark_Philippoussis', False, 1.9803398248835355)\n",
        "('Talisa_Bratt', 'George_W_Bush', False, 1.9793776279576076)\n",
        "('Ellen_Pompeo', 'George_W_Bush', False, 1.9790986307797382)\n",
        "('Robin_Tunney', 'Laura_Bush', False, 1.977881704135815)\n",
        "('Samira_Makhmalbaf', 'George_W_Bush', False, 1.9774987416237666)\n",
        "('Norah_Jones', 'George_W_Bush', False, 1.9764969013357994)\n",
        "('Lloyd_Novick', 'Ariel_Sharon', False, 1.9762006118093958)\n",
        "('Jeb_Bush', 'George_W_Bush', False, 1.9748238333978383)\n",
        "('Raquel_Welch', 'George_W_Bush', False, 1.9741388811653298)\n",
        "('Elodie_Bouchez', 'George_W_Bush', False, 1.9666210190405164)\n",
        "('Boris_Jordan', 'Ariel_Sharon', False, 1.9623327708100473)\n",
        "('Norah_Jones', 'George_W_Bush', False, 1.9615645253073068)\n",
        "('Harold_Brown', 'John_Negroponte', False, 1.9597512231477705)\n",
        "('Ricardo_Lagos', 'Ariel_Sharon', False, 1.9595909235035085)\n",
        "('William_Martin', 'Hans_Blix', False, 1.9547277735099948)\n",
        "('Maria_Garcia', 'Megawati_Sukarnoputri', False, 1.9543916695019543)\n",
        "('Penelope_Cruz', 'George_W_Bush', False, 1.9516707332933572)\n",
        "('Melina_Kanakaredes', 'Amelia_Vega', False, 1.9514275054008603)\n",
        "('Martina_McBride', 'George_W_Bush', False, 1.9507934005861258)\n",
        "('Ryan_Newman', 'Ariel_Sharon', False, 1.9488323561093197)\n",
        "('Paul_McCartney', 'Tony_Blair', False, 1.9463988185059169)\n"
       ]
      }
     ],
     "prompt_number": 9
    },
    {
     "cell_type": "code",
     "collapsed": false,
     "input": [],
     "language": "python",
     "metadata": {},
     "outputs": []
    }
   ],
   "metadata": {}
  }
 ]
}