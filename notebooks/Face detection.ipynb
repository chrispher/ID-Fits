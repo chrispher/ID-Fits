{
 "metadata": {
  "name": "",
  "signature": "sha256:f85b081eef567639bbae8ab43d3d8366356fa453d895e83db6c16cf47295a06d"
 },
 "nbformat": 3,
 "nbformat_minor": 0,
 "worksheets": [
  {
   "cells": [
    {
     "cell_type": "code",
     "collapsed": false,
     "input": [
      "from PythonWrapper.face_detection import *"
     ],
     "language": "python",
     "metadata": {},
     "outputs": [],
     "prompt_number": 1
    },
    {
     "cell_type": "code",
     "collapsed": false,
     "input": [
      "import numpy as np\n",
      "from landmarks_datasets import BioId\n",
      "\n",
      "dataset = BioId()\n",
      "images = dataset.loadImages()\n",
      "ground_truth = dataset.loadGroundTruth()\n",
      "bounding_boxes = dataset.loadBoundingBoxes()\n",
      "\n",
      "training_set_size = 900\n",
      "training_landmarks = ground_truth[:training_set_size]\n",
      "\n",
      "mean_shape = np.zeros((20, 2))\n",
      "face_detector = FaceDetector()\n",
      "for i in range(training_set_size):\n",
      "    mean_shape += (training_landmarks[i] - bounding_boxes[i][:2]) / (bounding_boxes[i][2:] - np.asarray(bounding_boxes[i][:2]))\n",
      "mean_shape /= training_set_size"
     ],
     "language": "python",
     "metadata": {},
     "outputs": [],
     "prompt_number": 2
    },
    {
     "cell_type": "code",
     "collapsed": false,
     "input": [
      "import cv2\n",
      "from tools import *\n",
      "\n",
      "imgs = images[:20]\n",
      "faces = bounding_boxes[:20]\n",
      "for img, face in zip(imgs, faces):\n",
      "    cv2.rectangle(img, face[:2], face[2:], (0,0,0), 3)\n",
      "    adapted_mean_shape = (mean_shape * (face[2:] - np.asarray(face[:2]))) + face[:2]\n",
      "    \n",
      "    for landmark in adapted_mean_shape:\n",
      "        cv2.circle(img, tuple(landmark.astype(np.int)), 3, (255,255,255), -1)\n",
      "\n",
      "showMosaic(imgs, ncols=5)"
     ],
     "language": "python",
     "metadata": {},
     "outputs": [],
     "prompt_number": 3
    },
    {
     "cell_type": "code",
     "collapsed": false,
     "input": [
      "%timeit face_detector.detectFaces(images[0])"
     ],
     "language": "python",
     "metadata": {},
     "outputs": [
      {
       "output_type": "stream",
       "stream": "stdout",
       "text": [
        "10 loops, best of 3: 46.8 ms per loop\n"
       ]
      }
     ],
     "prompt_number": 4
    },
    {
     "cell_type": "code",
     "collapsed": false,
     "input": [],
     "language": "python",
     "metadata": {},
     "outputs": [],
     "prompt_number": 5
    }
   ],
   "metadata": {}
  }
 ]
}